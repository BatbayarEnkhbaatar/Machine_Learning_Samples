{
  "nbformat": 4,
  "nbformat_minor": 0,
  "metadata": {
    "colab": {
      "name": "01_neural_network_regression_model_with_tensor_flow.ipynb",
      "provenance": [],
      "collapsed_sections": [],
      "authorship_tag": "ABX9TyOKq31+EhsezTUM9BAHfskt",
      "include_colab_link": true
    },
    "kernelspec": {
      "name": "python3",
      "display_name": "Python 3"
    },
    "language_info": {
      "name": "python"
    }
  },
  "cells": [
    {
      "cell_type": "markdown",
      "metadata": {
        "id": "view-in-github",
        "colab_type": "text"
      },
      "source": [
        "<a href=\"https://colab.research.google.com/github/BatbayarEnkhbaatar/Machine_Learning_Samples/blob/main/01_neural_network_regression_model_with_tensor_flow.ipynb\" target=\"_parent\"><img src=\"https://colab.research.google.com/assets/colab-badge.svg\" alt=\"Open In Colab\"/></a>"
      ]
    },
    {
      "cell_type": "code",
      "execution_count": 2,
      "metadata": {
        "id": "a2nS94uLcTAJ"
      },
      "outputs": [],
      "source": [
        "import tensorflow as tf"
      ]
    },
    {
      "cell_type": "code",
      "source": [
        "print(tf.__version__)"
      ],
      "metadata": {
        "colab": {
          "base_uri": "https://localhost:8080/"
        },
        "id": "D98A3RNEt1xo",
        "outputId": "5992d4a9-b219-4dd5-d014-174f6135fbc5"
      },
      "execution_count": 3,
      "outputs": [
        {
          "output_type": "stream",
          "name": "stdout",
          "text": [
            "2.8.0\n"
          ]
        }
      ]
    },
    {
      "cell_type": "code",
      "source": [
        "import numpy as np\n",
        "import matplotlib.pyplot as plt\n",
        "# Creating data to view and fit \n",
        "X= np.array([-7.0, -4.0, -1.0, 2.0, 5.0, 8.0, 11.0, 14.0])\n",
        "\n",
        "# Create labels\n",
        "y =np.array ([3.0, 6.0, 9.0, 12.0, 15.0, 18.0, 21.0, 24.0])\n",
        "\n",
        "# Visualize it\n",
        "plt.scatter(X,y);"
      ],
      "metadata": {
        "colab": {
          "base_uri": "https://localhost:8080/",
          "height": 269
        },
        "id": "eobwrHXPt6uX",
        "outputId": "649b7d42-a92c-4522-8460-d8f9dc82030c"
      },
      "execution_count": 4,
      "outputs": [
        {
          "output_type": "display_data",
          "data": {
            "image/png": "[encoded data removed]",
            "text/plain": [
              "<Figure size 432x288 with 1 Axes>"
            ]
          },
          "metadata": {
            "needs_background": "light"
          }
        }
      ]
    },
    {
      "cell_type": "code",
      "source": [
        "X[0].ndim"
      ],
      "metadata": {
        "colab": {
          "base_uri": "https://localhost:8080/"
        },
        "id": "cBSH0iR7Ffie",
        "outputId": "55f161a0-a64c-47a2-ad49-5436864bbfe3"
      },
      "execution_count": 5,
      "outputs": [
        {
          "output_type": "execute_result",
          "data": {
            "text/plain": [
              "0"
            ]
          },
          "metadata": {},
          "execution_count": 5
        }
      ]
    },
    {
      "cell_type": "code",
      "source": [
        "X[0], y[0]"
      ],
      "metadata": {
        "colab": {
          "base_uri": "https://localhost:8080/"
        },
        "id": "RdagzFTOFkEz",
        "outputId": "9781b0a1-0368-4a08-cff4-45c919583aa6"
      },
      "execution_count": 6,
      "outputs": [
        {
          "output_type": "execute_result",
          "data": {
            "text/plain": [
              "(-7.0, 3.0)"
            ]
          },
          "metadata": {},
          "execution_count": 6
        }
      ]
    },
    {
      "cell_type": "code",
      "source": [
        "y == X +10"
      ],
      "metadata": {
        "colab": {
          "base_uri": "https://localhost:8080/"
        },
        "id": "5CwlIFGEuvK3",
        "outputId": "e42274ef-ed2e-470b-8827-1fe0f38f1ff1"
      },
      "execution_count": 7,
      "outputs": [
        {
          "output_type": "execute_result",
          "data": {
            "text/plain": [
              "array([ True,  True,  True,  True,  True,  True,  True,  True])"
            ]
          },
          "metadata": {},
          "execution_count": 7
        }
      ]
    },
    {
      "cell_type": "code",
      "source": [
        "# Turn our Numpy arrays into tensors\n",
        "X = tf.constant(X)\n",
        "y = tf.constant(y)\n",
        "X, y\n",
        "X.ndim"
      ],
      "metadata": {
        "colab": {
          "base_uri": "https://localhost:8080/"
        },
        "id": "ub-1cyLaxmyw",
        "outputId": "652976c2-5d90-42e6-c4f0-79cc15c0e5d4"
      },
      "execution_count": 8,
      "outputs": [
        {
          "output_type": "execute_result",
          "data": {
            "text/plain": [
              "1"
            ]
          },
          "metadata": {},
          "execution_count": 8
        }
      ]
    },
    {
      "cell_type": "code",
      "source": [
        "plt.scatter(X, y)"
      ],
      "metadata": {
        "colab": {
          "base_uri": "https://localhost:8080/",
          "height": 287
        },
        "id": "AnnjnVIzzUsm",
        "outputId": "488cc502-fc7a-47e4-b607-7293a94f3b68"
      },
      "execution_count": 9,
      "outputs": [
        {
          "output_type": "execute_result",
          "data": {
            "text/plain": [
              "<matplotlib.collections.PathCollection at 0x7f9d4687c210>"
            ]
          },
          "metadata": {},
          "execution_count": 9
        },
        {
          "output_type": "display_data",
          "data": {
            "image/png": "[encoded data removed]",
            "text/plain": [
              "<Figure size 432x288 with 1 Axes>"
            ]
          },
          "metadata": {
            "needs_background": "light"
          }
        }
      ]
    },
    {
      "cell_type": "code",
      "source": [
        "input_shape = X[0].shape\n",
        "output_shape = y[0].shape\n",
        "input_shape, output_shape"
      ],
      "metadata": {
        "colab": {
          "base_uri": "https://localhost:8080/"
        },
        "id": "7T-NvtS_F4dj",
        "outputId": "ba186e26-faff-4f8c-ab12-ee17e75d56e3"
      },
      "execution_count": 10,
      "outputs": [
        {
          "output_type": "execute_result",
          "data": {
            "text/plain": [
              "(TensorShape([]), TensorShape([]))"
            ]
          },
          "metadata": {},
          "execution_count": 10
        }
      ]
    },
    {
      "cell_type": "code",
      "source": [
        "plt.scatter(X, y)"
      ],
      "metadata": {
        "colab": {
          "base_uri": "https://localhost:8080/",
          "height": 287
        },
        "id": "3F_O59wdGLma",
        "outputId": "9f7d7295-71b1-4772-f2c3-9446cc92fdb8"
      },
      "execution_count": 11,
      "outputs": [
        {
          "output_type": "execute_result",
          "data": {
            "text/plain": [
              "<matplotlib.collections.PathCollection at 0x7f9d4391c790>"
            ]
          },
          "metadata": {},
          "execution_count": 11
        },
        {
          "output_type": "display_data",
          "data": {
            "image/png": "[encoded data removed]",
            "text/plain": [
              "<Figure size 432x288 with 1 Axes>"
            ]
          },
          "metadata": {
            "needs_background": "light"
          }
        }
      ]
    },
    {
      "cell_type": "markdown",
      "source": [
        "# Steps in modelling with TensorFlow\n",
        "1. Creating modellig -- defince the input and output layers , as well as the hidden layers of a deep learning model.\n",
        "2. Compling a model --define the loss function (in other words, the function which tells our model how wrong it is) and the oprimizer (tells our model how to improve the patterns its learning) and evaluation metrics (what we can use to inherpret the performance of our model). \n",
        "3.Fitting the model -- letting the model try to find patterns between X& y (features and labels)\n"
      ],
      "metadata": {
        "id": "UBVIwE69GSGO"
      }
    },
    {
      "cell_type": "code",
      "source": [
        "# Optionally, the first layer can receive an `input_shape` argument:\n",
        "model = tf.keras.Sequential()\n",
        "model.add(tf.keras.layers.Dense(8, input_shape=(16,)))\n",
        "# Afterwards, we do automatic shape inference:\n",
        "model.add(tf.keras.layers.Dense(4))\n",
        "\n",
        "\n",
        "model=tf.keras.Sequential()\n",
        "model.add(tf.keras.layers.Dense(8, input_shape=(16,)))\n",
        "\n",
        "\n",
        "model = tf.keras.Sequential()\n",
        "model.add(tf.keras.layers.Dense(1))"
      ],
      "metadata": {
        "id": "LIMYahT9CFNm"
      },
      "execution_count": 12,
      "outputs": []
    },
    {
      "cell_type": "code",
      "source": [
        "# Title Default title text\n",
        "# Let's build the build the model\n",
        "import keras\n",
        "#  1.  Create model using the Sequential API\n",
        "tf.random.set_seed(42)\n",
        "\n",
        "model =  tf.keras.Sequential([\n",
        "                              tf.keras.layers.Dense(1)\n",
        "                              \n",
        "])\n",
        "# 2. Compile the model\n",
        "model.compile(loss=tf.keras.losses.mae,  # mae is short for Mean Absolute Error\n",
        "              optimizer = tf.keras.optimizers.SGD(), # SGD is short for Stochasitc Gradient Descent\n",
        "              metrics=[\"mae\"]) \n",
        "\n",
        "# 3. fit the model\n",
        "model.fit(tf.expand_dims(X, axis=-1), y, epochs=5)"
      ],
      "metadata": {
        "id": "xXDYkK4Fz2lP",
        "colab": {
          "base_uri": "https://localhost:8080/"
        },
        "outputId": "da22fca1-f8ae-43d9-b14e-01f002e2a81d"
      },
      "execution_count": 13,
      "outputs": [
        {
          "output_type": "stream",
          "name": "stdout",
          "text": [
            "Epoch 1/5\n",
            "1/1 [==============================] - 1s 907ms/step - loss: 11.5048 - mae: 11.5048\n",
            "Epoch 2/5\n",
            "1/1 [==============================] - 0s 24ms/step - loss: 11.3723 - mae: 11.3723\n",
            "Epoch 3/5\n",
            "1/1 [==============================] - 0s 25ms/step - loss: 11.2398 - mae: 11.2398\n",
            "Epoch 4/5\n",
            "1/1 [==============================] - 0s 28ms/step - loss: 11.1073 - mae: 11.1073\n",
            "Epoch 5/5\n",
            "1/1 [==============================] - 0s 21ms/step - loss: 10.9748 - mae: 10.9748\n"
          ]
        },
        {
          "output_type": "execute_result",
          "data": {
            "text/plain": [
              "<keras.callbacks.History at 0x7f9d42f146d0>"
            ]
          },
          "metadata": {},
          "execution_count": 13
        }
      ]
    },
    {
      "cell_type": "code",
      "source": [
        "# Check out X and y\n",
        "X, y"
      ],
      "metadata": {
        "colab": {
          "base_uri": "https://localhost:8080/"
        },
        "id": "QsHD6iNcCCa8",
        "outputId": "0f6cae80-9632-45b5-b0fb-db30b5bec66e"
      },
      "execution_count": 14,
      "outputs": [
        {
          "output_type": "execute_result",
          "data": {
            "text/plain": [
              "(<tf.Tensor: shape=(8,), dtype=float64, numpy=array([-7., -4., -1.,  2.,  5.,  8., 11., 14.])>,\n",
              " <tf.Tensor: shape=(8,), dtype=float64, numpy=array([ 3.,  6.,  9., 12., 15., 18., 21., 24.])>)"
            ]
          },
          "metadata": {},
          "execution_count": 14
        }
      ]
    },
    {
      "cell_type": "code",
      "source": [
        "# try and make a prediction using our model"
      ],
      "metadata": {
        "id": "fH1Nr-aRBwB-"
      },
      "execution_count": 15,
      "outputs": []
    },
    {
      "cell_type": "code",
      "source": [
        "y_pred = model.predict([17, 0])"
      ],
      "metadata": {
        "id": "03zKlfPRBwre"
      },
      "execution_count": 16,
      "outputs": []
    },
    {
      "cell_type": "code",
      "source": [
        "y_pred + 11"
      ],
      "metadata": {
        "colab": {
          "base_uri": "https://localhost:8080/"
        },
        "id": "pHACvRqS313F",
        "outputId": "beb5189c-401f-4f84-8d3a-9c8668ca8a46"
      },
      "execution_count": 17,
      "outputs": [
        {
          "output_type": "execute_result",
          "data": {
            "text/plain": [
              "array([[23.71602],\n",
              "       [11.05   ]], dtype=float32)"
            ]
          },
          "metadata": {},
          "execution_count": 17
        }
      ]
    },
    {
      "cell_type": "code",
      "source": [
        ""
      ],
      "metadata": {
        "id": "ZxqwZAcGLLDK"
      },
      "execution_count": 17,
      "outputs": []
    },
    {
      "cell_type": "markdown",
      "source": [
        "# improving our model \n",
        "we can improve model b alteringthe steps we took to create  a mddel\n",
        "\n",
        "1. ** Creating model ** --here we might add more llayers. increase the number of hidden units (all called neurons)within each of the hidden layers, change the activation functions of each layers.\n",
        "2. ** compling  a model** --here we might change the optimization functions or perhaps or **leaning rate ** of the optimization function.\n",
        "3. fitting - here we might fit a model for more epotchs (leave it training )"
      ],
      "metadata": {
        "id": "L0-cKXhqQmDa"
      }
    },
    {
      "cell_type": "code",
      "source": [
        "#  1.  Create model using the Sequential API\n",
        "tf.random.set_seed(42)\n",
        "\n",
        "model =  tf.keras.Sequential([\n",
        "                              tf.keras.layers.Dense(100, activation=\"relu\"),\n",
        "                              tf.keras.layers.Dense(1)\n",
        "                              \n",
        "])\n",
        "# 2. Compile the model\n",
        "model.compile(loss=\"mae\",  # mae is short for Mean Absolute Error\n",
        "              optimizer = tf.keras.optimizers.Adam(lr=0.01), # SGD is short for Stochasitc Gradient Descent\n",
        "              metrics=[\"mae\"]) \n",
        "\n",
        "# 3. fit the model\n",
        "model.fit(tf.expand_dims(X, axis=-1), y, epochs=100)"
      ],
      "metadata": {
        "colab": {
          "base_uri": "https://localhost:8080/"
        },
        "id": "kMfshVC-anPX",
        "outputId": "c2cf1f36-ec52-42c6-8fc6-613970b70a34"
      },
      "execution_count": 18,
      "outputs": [
        {
          "output_type": "stream",
          "name": "stdout",
          "text": [
            "Epoch 1/100\n"
          ]
        },
        {
          "output_type": "stream",
          "name": "stderr",
          "text": [
            "/usr/local/lib/python3.7/dist-packages/keras/optimizer_v2/adam.py:105: UserWarning: The `lr` argument is deprecated, use `learning_rate` instead.\n",
            "  super(Adam, self).__init__(name, **kwargs)\n"
          ]
        },
        {
          "output_type": "stream",
          "name": "stdout",
          "text": [
            "1/1 [==============================] - 1s 882ms/step - loss: 12.3185 - mae: 12.3185\n",
            "Epoch 2/100\n",
            "1/1 [==============================] - 0s 19ms/step - loss: 11.4382 - mae: 11.4382\n",
            "Epoch 3/100\n",
            "1/1 [==============================] - 0s 21ms/step - loss: 10.5494 - mae: 10.5494\n",
            "Epoch 4/100\n",
            "1/1 [==============================] - 0s 16ms/step - loss: 9.7152 - mae: 9.7152\n",
            "Epoch 5/100\n",
            "1/1 [==============================] - 0s 18ms/step - loss: 9.0090 - mae: 9.0090\n",
            "Epoch 6/100\n",
            "1/1 [==============================] - 0s 13ms/step - loss: 8.2746 - mae: 8.2746\n",
            "Epoch 7/100\n",
            "1/1 [==============================] - 0s 14ms/step - loss: 7.5151 - mae: 7.5151\n",
            "Epoch 8/100\n",
            "1/1 [==============================] - 0s 14ms/step - loss: 6.7230 - mae: 6.7230\n",
            "Epoch 9/100\n",
            "1/1 [==============================] - 0s 9ms/step - loss: 5.8980 - mae: 5.8980\n",
            "Epoch 10/100\n",
            "1/1 [==============================] - 0s 9ms/step - loss: 5.0336 - mae: 5.0336\n",
            "Epoch 11/100\n",
            "1/1 [==============================] - 0s 12ms/step - loss: 4.1246 - mae: 4.1246\n",
            "Epoch 12/100\n",
            "1/1 [==============================] - 0s 14ms/step - loss: 3.7511 - mae: 3.7511\n",
            "Epoch 13/100\n",
            "1/1 [==============================] - 0s 26ms/step - loss: 3.9158 - mae: 3.9158\n",
            "Epoch 14/100\n",
            "1/1 [==============================] - 0s 9ms/step - loss: 4.1521 - mae: 4.1521\n",
            "Epoch 15/100\n",
            "1/1 [==============================] - 0s 18ms/step - loss: 4.5077 - mae: 4.5077\n",
            "Epoch 16/100\n",
            "1/1 [==============================] - 0s 9ms/step - loss: 4.7397 - mae: 4.7397\n",
            "Epoch 17/100\n",
            "1/1 [==============================] - 0s 9ms/step - loss: 4.8614 - mae: 4.8614\n",
            "Epoch 18/100\n",
            "1/1 [==============================] - 0s 15ms/step - loss: 4.8871 - mae: 4.8871\n",
            "Epoch 19/100\n",
            "1/1 [==============================] - 0s 9ms/step - loss: 4.8299 - mae: 4.8299\n",
            "Epoch 20/100\n",
            "1/1 [==============================] - 0s 8ms/step - loss: 4.7016 - mae: 4.7016\n",
            "Epoch 21/100\n",
            "1/1 [==============================] - 0s 12ms/step - loss: 4.5153 - mae: 4.5153\n",
            "Epoch 22/100\n",
            "1/1 [==============================] - 0s 18ms/step - loss: 4.2833 - mae: 4.2833\n",
            "Epoch 23/100\n",
            "1/1 [==============================] - 0s 16ms/step - loss: 4.0132 - mae: 4.0132\n",
            "Epoch 24/100\n",
            "1/1 [==============================] - 0s 14ms/step - loss: 3.7305 - mae: 3.7305\n",
            "Epoch 25/100\n",
            "1/1 [==============================] - 0s 8ms/step - loss: 3.6061 - mae: 3.6061\n",
            "Epoch 26/100\n",
            "1/1 [==============================] - 0s 7ms/step - loss: 3.4817 - mae: 3.4817\n",
            "Epoch 27/100\n",
            "1/1 [==============================] - 0s 13ms/step - loss: 3.3552 - mae: 3.3552\n",
            "Epoch 28/100\n",
            "1/1 [==============================] - 0s 8ms/step - loss: 3.3430 - mae: 3.3430\n",
            "Epoch 29/100\n",
            "1/1 [==============================] - 0s 11ms/step - loss: 3.3752 - mae: 3.3752\n",
            "Epoch 30/100\n",
            "1/1 [==============================] - 0s 13ms/step - loss: 3.3967 - mae: 3.3967\n",
            "Epoch 31/100\n",
            "1/1 [==============================] - 0s 14ms/step - loss: 3.3853 - mae: 3.3853\n",
            "Epoch 32/100\n",
            "1/1 [==============================] - 0s 17ms/step - loss: 3.3337 - mae: 3.3337\n",
            "Epoch 33/100\n",
            "1/1 [==============================] - 0s 23ms/step - loss: 3.2754 - mae: 3.2754\n",
            "Epoch 34/100\n",
            "1/1 [==============================] - 0s 10ms/step - loss: 3.1896 - mae: 3.1896\n",
            "Epoch 35/100\n",
            "1/1 [==============================] - 0s 18ms/step - loss: 3.0763 - mae: 3.0763\n",
            "Epoch 36/100\n",
            "1/1 [==============================] - 0s 13ms/step - loss: 2.9381 - mae: 2.9381\n",
            "Epoch 37/100\n",
            "1/1 [==============================] - 0s 14ms/step - loss: 2.8169 - mae: 2.8169\n",
            "Epoch 38/100\n",
            "1/1 [==============================] - 0s 14ms/step - loss: 2.7896 - mae: 2.7896\n",
            "Epoch 39/100\n",
            "1/1 [==============================] - 0s 15ms/step - loss: 2.7367 - mae: 2.7367\n",
            "Epoch 40/100\n",
            "1/1 [==============================] - 0s 16ms/step - loss: 2.7003 - mae: 2.7003\n",
            "Epoch 41/100\n",
            "1/1 [==============================] - 0s 14ms/step - loss: 2.5916 - mae: 2.5916\n",
            "Epoch 42/100\n",
            "1/1 [==============================] - 0s 10ms/step - loss: 2.4901 - mae: 2.4901\n",
            "Epoch 43/100\n",
            "1/1 [==============================] - 0s 10ms/step - loss: 2.3889 - mae: 2.3889\n",
            "Epoch 44/100\n",
            "1/1 [==============================] - 0s 14ms/step - loss: 2.2773 - mae: 2.2773\n",
            "Epoch 45/100\n",
            "1/1 [==============================] - 0s 10ms/step - loss: 2.1486 - mae: 2.1486\n",
            "Epoch 46/100\n",
            "1/1 [==============================] - 0s 15ms/step - loss: 2.0120 - mae: 2.0120\n",
            "Epoch 47/100\n",
            "1/1 [==============================] - 0s 10ms/step - loss: 1.8716 - mae: 1.8716\n",
            "Epoch 48/100\n",
            "1/1 [==============================] - 0s 8ms/step - loss: 1.8010 - mae: 1.8010\n",
            "Epoch 49/100\n",
            "1/1 [==============================] - 0s 9ms/step - loss: 1.6817 - mae: 1.6817\n",
            "Epoch 50/100\n",
            "1/1 [==============================] - 0s 10ms/step - loss: 1.4949 - mae: 1.4949\n",
            "Epoch 51/100\n",
            "1/1 [==============================] - 0s 11ms/step - loss: 1.3659 - mae: 1.3659\n",
            "Epoch 52/100\n",
            "1/1 [==============================] - 0s 11ms/step - loss: 1.2458 - mae: 1.2458\n",
            "Epoch 53/100\n",
            "1/1 [==============================] - 0s 13ms/step - loss: 1.1011 - mae: 1.1011\n",
            "Epoch 54/100\n",
            "1/1 [==============================] - 0s 15ms/step - loss: 0.9050 - mae: 0.9050\n",
            "Epoch 55/100\n",
            "1/1 [==============================] - 0s 16ms/step - loss: 0.7032 - mae: 0.7032\n",
            "Epoch 56/100\n",
            "1/1 [==============================] - 0s 16ms/step - loss: 0.4866 - mae: 0.4866\n",
            "Epoch 57/100\n",
            "1/1 [==============================] - 0s 19ms/step - loss: 0.3925 - mae: 0.3925\n",
            "Epoch 58/100\n",
            "1/1 [==============================] - 0s 17ms/step - loss: 0.2727 - mae: 0.2727\n",
            "Epoch 59/100\n",
            "1/1 [==============================] - 0s 34ms/step - loss: 0.2035 - mae: 0.2035\n",
            "Epoch 60/100\n",
            "1/1 [==============================] - 0s 7ms/step - loss: 0.4177 - mae: 0.4177\n",
            "Epoch 61/100\n",
            "1/1 [==============================] - 0s 15ms/step - loss: 0.3904 - mae: 0.3904\n",
            "Epoch 62/100\n",
            "1/1 [==============================] - 0s 10ms/step - loss: 0.4483 - mae: 0.4483\n",
            "Epoch 63/100\n",
            "1/1 [==============================] - 0s 27ms/step - loss: 0.4128 - mae: 0.4128\n",
            "Epoch 64/100\n",
            "1/1 [==============================] - 0s 19ms/step - loss: 0.5029 - mae: 0.5029\n",
            "Epoch 65/100\n",
            "1/1 [==============================] - 0s 21ms/step - loss: 0.4210 - mae: 0.4210\n",
            "Epoch 66/100\n",
            "1/1 [==============================] - 0s 17ms/step - loss: 0.4623 - mae: 0.4623\n",
            "Epoch 67/100\n",
            "1/1 [==============================] - 0s 19ms/step - loss: 0.3584 - mae: 0.3584\n",
            "Epoch 68/100\n",
            "1/1 [==============================] - 0s 11ms/step - loss: 0.3169 - mae: 0.3169\n",
            "Epoch 69/100\n",
            "1/1 [==============================] - 0s 12ms/step - loss: 0.2630 - mae: 0.2630\n",
            "Epoch 70/100\n",
            "1/1 [==============================] - 0s 9ms/step - loss: 0.2135 - mae: 0.2135\n",
            "Epoch 71/100\n",
            "1/1 [==============================] - 0s 12ms/step - loss: 0.1765 - mae: 0.1765\n",
            "Epoch 72/100\n",
            "1/1 [==============================] - 0s 37ms/step - loss: 0.3350 - mae: 0.3350\n",
            "Epoch 73/100\n",
            "1/1 [==============================] - 0s 11ms/step - loss: 0.3267 - mae: 0.3267\n",
            "Epoch 74/100\n",
            "1/1 [==============================] - 0s 14ms/step - loss: 0.1933 - mae: 0.1933\n",
            "Epoch 75/100\n",
            "1/1 [==============================] - 0s 14ms/step - loss: 0.2845 - mae: 0.2845\n",
            "Epoch 76/100\n",
            "1/1 [==============================] - 0s 10ms/step - loss: 0.1706 - mae: 0.1706\n",
            "Epoch 77/100\n",
            "1/1 [==============================] - 0s 21ms/step - loss: 0.1886 - mae: 0.1886\n",
            "Epoch 78/100\n",
            "1/1 [==============================] - 0s 16ms/step - loss: 0.2379 - mae: 0.2379\n",
            "Epoch 79/100\n",
            "1/1 [==============================] - 0s 11ms/step - loss: 0.2396 - mae: 0.2396\n",
            "Epoch 80/100\n",
            "1/1 [==============================] - 0s 12ms/step - loss: 0.2633 - mae: 0.2633\n",
            "Epoch 81/100\n",
            "1/1 [==============================] - 0s 11ms/step - loss: 0.1766 - mae: 0.1766\n",
            "Epoch 82/100\n",
            "1/1 [==============================] - 0s 11ms/step - loss: 0.2349 - mae: 0.2349\n",
            "Epoch 83/100\n",
            "1/1 [==============================] - 0s 12ms/step - loss: 0.1657 - mae: 0.1657\n",
            "Epoch 84/100\n",
            "1/1 [==============================] - 0s 11ms/step - loss: 0.2313 - mae: 0.2313\n",
            "Epoch 85/100\n",
            "1/1 [==============================] - 0s 17ms/step - loss: 0.1406 - mae: 0.1406\n",
            "Epoch 86/100\n",
            "1/1 [==============================] - 0s 15ms/step - loss: 0.2704 - mae: 0.2704\n",
            "Epoch 87/100\n",
            "1/1 [==============================] - 0s 15ms/step - loss: 0.2625 - mae: 0.2625\n",
            "Epoch 88/100\n",
            "1/1 [==============================] - 0s 12ms/step - loss: 0.1244 - mae: 0.1244\n",
            "Epoch 89/100\n",
            "1/1 [==============================] - 0s 12ms/step - loss: 0.2429 - mae: 0.2429\n",
            "Epoch 90/100\n",
            "1/1 [==============================] - 0s 17ms/step - loss: 0.1039 - mae: 0.1039\n",
            "Epoch 91/100\n",
            "1/1 [==============================] - 0s 16ms/step - loss: 0.3054 - mae: 0.3054\n",
            "Epoch 92/100\n",
            "1/1 [==============================] - 0s 14ms/step - loss: 0.2531 - mae: 0.2531\n",
            "Epoch 93/100\n",
            "1/1 [==============================] - 0s 16ms/step - loss: 0.1150 - mae: 0.1150\n",
            "Epoch 94/100\n",
            "1/1 [==============================] - 0s 19ms/step - loss: 0.0968 - mae: 0.0968\n",
            "Epoch 95/100\n",
            "1/1 [==============================] - 0s 20ms/step - loss: 0.1926 - mae: 0.1926\n",
            "Epoch 96/100\n",
            "1/1 [==============================] - 0s 14ms/step - loss: 0.0905 - mae: 0.0905\n",
            "Epoch 97/100\n",
            "1/1 [==============================] - 0s 7ms/step - loss: 0.3329 - mae: 0.3329\n",
            "Epoch 98/100\n",
            "1/1 [==============================] - 0s 12ms/step - loss: 0.3907 - mae: 0.3907\n",
            "Epoch 99/100\n",
            "1/1 [==============================] - 0s 7ms/step - loss: 0.2052 - mae: 0.2052\n",
            "Epoch 100/100\n",
            "1/1 [==============================] - 0s 6ms/step - loss: 0.3052 - mae: 0.3052\n"
          ]
        },
        {
          "output_type": "execute_result",
          "data": {
            "text/plain": [
              "<keras.callbacks.History at 0x7f9d41619310>"
            ]
          },
          "metadata": {},
          "execution_count": 18
        }
      ]
    },
    {
      "cell_type": "code",
      "source": [
        "X, y"
      ],
      "metadata": {
        "colab": {
          "base_uri": "https://localhost:8080/"
        },
        "id": "PmrM9JfkzE8H",
        "outputId": "94f327d6-f545-4320-f6d0-35652f33547a"
      },
      "execution_count": 19,
      "outputs": [
        {
          "output_type": "execute_result",
          "data": {
            "text/plain": [
              "(<tf.Tensor: shape=(8,), dtype=float64, numpy=array([-7., -4., -1.,  2.,  5.,  8., 11., 14.])>,\n",
              " <tf.Tensor: shape=(8,), dtype=float64, numpy=array([ 3.,  6.,  9., 12., 15., 18., 21., 24.])>)"
            ]
          },
          "metadata": {},
          "execution_count": 19
        }
      ]
    },
    {
      "cell_type": "code",
      "source": [
        "#lets try to make prediction\n",
        "model.predict([17.0])"
      ],
      "metadata": {
        "colab": {
          "base_uri": "https://localhost:8080/"
        },
        "id": "5mueXRs1zRt3",
        "outputId": "c4998a71-120b-488a-c3c7-91bde3068b09"
      },
      "execution_count": 20,
      "outputs": [
        {
          "output_type": "execute_result",
          "data": {
            "text/plain": [
              "array([[26.206877]], dtype=float32)"
            ]
          },
          "metadata": {},
          "execution_count": 20
        }
      ]
    },
    {
      "cell_type": "code",
      "source": [
        ""
      ],
      "metadata": {
        "id": "tlKDQe3F1T2e"
      },
      "execution_count": 20,
      "outputs": []
    },
    {
      "cell_type": "markdown",
      "source": [
        "# Evualating a model \n",
        "\n",
        "In practice, a typical workflow you will got through when building neural networks is "
      ],
      "metadata": {
        "id": "j01TRA-G17ix"
      }
    },
    {
      "cell_type": "markdown",
      "source": [
        "Build - > fit -> evaulate -> tweak a model - > fit it > evualate "
      ],
      "metadata": {
        "id": "H3rHhA2V5nvL"
      }
    },
    {
      "cell_type": "markdown",
      "source": [
        ""
      ],
      "metadata": {
        "id": "TXWbxEGb6LzN"
      }
    },
    {
      "cell_type": "code",
      "source": [
        " # Making a bigger dataset\n",
        "X= tf.range(-100,100 ,4)\n",
        "X"
      ],
      "metadata": {
        "colab": {
          "base_uri": "https://localhost:8080/"
        },
        "id": "OHia1wNo190Z",
        "outputId": "fe50f549-2f81-4ecf-9acc-775b7d4f00d9"
      },
      "execution_count": 90,
      "outputs": [
        {
          "output_type": "execute_result",
          "data": {
            "text/plain": [
              "<tf.Tensor: shape=(50,), dtype=int32, numpy=\n",
              "array([-100,  -96,  -92,  -88,  -84,  -80,  -76,  -72,  -68,  -64,  -60,\n",
              "        -56,  -52,  -48,  -44,  -40,  -36,  -32,  -28,  -24,  -20,  -16,\n",
              "        -12,   -8,   -4,    0,    4,    8,   12,   16,   20,   24,   28,\n",
              "         32,   36,   40,   44,   48,   52,   56,   60,   64,   68,   72,\n",
              "         76,   80,   84,   88,   92,   96], dtype=int32)>"
            ]
          },
          "metadata": {},
          "execution_count": 90
        }
      ]
    },
    {
      "cell_type": "code",
      "source": [
        "# make a label for data\n",
        "y = X +10\n",
        "y"
      ],
      "metadata": {
        "colab": {
          "base_uri": "https://localhost:8080/"
        },
        "id": "Nqrc2Jd_7GzG",
        "outputId": "20e277e6-5209-406b-8b16-c9eb98bddda5"
      },
      "execution_count": 89,
      "outputs": [
        {
          "output_type": "execute_result",
          "data": {
            "text/plain": [
              "<tf.Tensor: shape=(50,), dtype=int32, numpy=\n",
              "array([-90, -86, -82, -78, -74, -70, -66, -62, -58, -54, -50, -46, -42,\n",
              "       -38, -34, -30, -26, -22, -18, -14, -10,  -6,  -2,   2,   6,  10,\n",
              "        14,  18,  22,  26,  30,  34,  38,  42,  46,  50,  54,  58,  62,\n",
              "        66,  70,  74,  78,  82,  86,  90,  94,  98, 102, 106], dtype=int32)>"
            ]
          },
          "metadata": {},
          "execution_count": 89
        }
      ]
    },
    {
      "cell_type": "code",
      "source": [
        "import matplotlib.pyplot as plt\n",
        "plt.scatter(X, y)"
      ],
      "metadata": {
        "colab": {
          "base_uri": "https://localhost:8080/",
          "height": 283
        },
        "id": "JXdwUhGR7Ph9",
        "outputId": "5b040d68-5c4b-402a-e7c0-d46db4ca210d"
      },
      "execution_count": 23,
      "outputs": [
        {
          "output_type": "execute_result",
          "data": {
            "text/plain": [
              "<matplotlib.collections.PathCollection at 0x7f9d4181b710>"
            ]
          },
          "metadata": {},
          "execution_count": 23
        },
        {
          "output_type": "display_data",
          "data": {
            "image/png": "[encoded data removed]",
            "text/plain": [
              "<Figure size 432x288 with 1 Axes>"
            ]
          },
          "metadata": {
            "needs_background": "light"
          }
        }
      ]
    },
    {
      "cell_type": "code",
      "source": [
        "# Check the  length of the how many data samples we have \n",
        "len(X)\n"
      ],
      "metadata": {
        "colab": {
          "base_uri": "https://localhost:8080/"
        },
        "id": "QQ8XcOTJ7lAC",
        "outputId": "5b904195-90cc-40e8-925d-afba4f59eef8"
      },
      "execution_count": 24,
      "outputs": [
        {
          "output_type": "execute_result",
          "data": {
            "text/plain": [
              "50"
            ]
          },
          "metadata": {},
          "execution_count": 24
        }
      ]
    },
    {
      "cell_type": "code",
      "source": [
        "# Split the data into train and test sets\n",
        "X_train = X[:40]\n",
        "y_train = y[:40]\n",
        "\n",
        "X_test = X[40:]\n",
        "y_test = y[40:]\n",
        "\n",
        "len (X_train), len(X_test), len(y_train),  len(y_test)"
      ],
      "metadata": {
        "colab": {
          "base_uri": "https://localhost:8080/"
        },
        "id": "SfIWlUAc_C0l",
        "outputId": "0fdb47f3-56fb-42a1-afec-f05611cd5517"
      },
      "execution_count": 98,
      "outputs": [
        {
          "output_type": "execute_result",
          "data": {
            "text/plain": [
              "(40, 10, 40, 10)"
            ]
          },
          "metadata": {},
          "execution_count": 98
        }
      ]
    },
    {
      "cell_type": "markdown",
      "source": [
        "###### Visualizing data\n",
        "# Now we have got our data in training and test sets... let's visualize it again .....!\n",
        "."
      ],
      "metadata": {
        "id": "koB4cHxkAIoO"
      }
    },
    {
      "cell_type": "markdown",
      "source": [
        "## The 3 sets...\n",
        " *** Trainiing set -- the mdel learns from this data, which is typically 70-80 % of the total data you have available.\n",
        " *** Validatation -- the model gets tuned on this data , which is typically 10-15% of the data available.\n",
        " *** Test sets "
      ],
      "metadata": {
        "id": "sZKas9QR77rG"
      }
    },
    {
      "cell_type": "code",
      "source": [
        ""
      ],
      "metadata": {
        "id": "86GGaaEMDhiS"
      },
      "execution_count": 25,
      "outputs": []
    },
    {
      "cell_type": "code",
      "source": [
        "plt.figure(figsize=(10, 7))\n",
        "## Plot trainiing data in blue\n",
        "plt.scatter(X_train, y_train, c= \"b\", label = \"Training data\")\n",
        "# Plot test data in green \n",
        "plt.scatter(X_test, y_test, c =\"g\", label=\"Test data\")  # want out model to be able to predict this(given X, what's y ?)\n",
        "# show  a legend\n",
        "plt.legend();"
      ],
      "metadata": {
        "colab": {
          "base_uri": "https://localhost:8080/",
          "height": 428
        },
        "id": "Q2JxN2e2_8Ir",
        "outputId": "edb4a441-68c4-4987-d822-41b511f2000d"
      },
      "execution_count": 84,
      "outputs": [
        {
          "output_type": "display_data",
          "data": {
            "image/png": "[encoded data removed]",
            "text/plain": [
              "<Figure size 720x504 with 1 Axes>"
            ]
          },
          "metadata": {
            "needs_background": "light"
          }
        }
      ]
    },
    {
      "cell_type": "code",
      "source": [
        "# Let's have a look at how to build a neura network for our data\n",
        "\n",
        "#1. Create a model\n",
        "model = tf. keras.Sequential([\n",
        "  tf.keras.layers.Dense(1)\n",
        "])\n",
        "#2.  Compile model\n",
        "model.compile(loss=tf.keras.losses.mae,\n",
        "optimizer=tf.keras.optimizers.SGD(),\n",
        "metrics=[\"mae\"])\n",
        "#3. Fit the model\n",
        "model.fit(tf.expand_dims(X_train, axis=-1), y_train, epochs=100)"
      ],
      "metadata": {
        "colab": {
          "base_uri": "https://localhost:8080/"
        },
        "id": "ZoNW8ZE8H31K",
        "outputId": "e862bba0-91c2-4298-ff4b-9f112fedc675"
      },
      "execution_count": 27,
      "outputs": [
        {
          "output_type": "stream",
          "name": "stdout",
          "text": [
            "Epoch 1/100\n",
            "2/2 [==============================] - 1s 11ms/step - loss: 8.6049 - mae: 8.6049\n",
            "Epoch 2/100\n",
            "2/2 [==============================] - 0s 11ms/step - loss: 10.4695 - mae: 10.4695\n",
            "Epoch 3/100\n",
            "2/2 [==============================] - 0s 8ms/step - loss: 10.9015 - mae: 10.9015\n",
            "Epoch 4/100\n",
            "2/2 [==============================] - 0s 9ms/step - loss: 9.4167 - mae: 9.4167\n",
            "Epoch 5/100\n",
            "2/2 [==============================] - 0s 11ms/step - loss: 10.3042 - mae: 10.3042\n",
            "Epoch 6/100\n",
            "2/2 [==============================] - 0s 9ms/step - loss: 9.5497 - mae: 9.5497\n",
            "Epoch 7/100\n",
            "2/2 [==============================] - 0s 9ms/step - loss: 8.6695 - mae: 8.6695\n",
            "Epoch 8/100\n",
            "2/2 [==============================] - 0s 10ms/step - loss: 9.0480 - mae: 9.0480\n",
            "Epoch 9/100\n",
            "2/2 [==============================] - 0s 9ms/step - loss: 19.0087 - mae: 19.0087\n",
            "Epoch 10/100\n",
            "2/2 [==============================] - 0s 10ms/step - loss: 10.2539 - mae: 10.2539\n",
            "Epoch 11/100\n",
            "2/2 [==============================] - 0s 9ms/step - loss: 8.4495 - mae: 8.4495\n",
            "Epoch 12/100\n",
            "2/2 [==============================] - 0s 11ms/step - loss: 10.7747 - mae: 10.7747\n",
            "Epoch 13/100\n",
            "2/2 [==============================] - 0s 6ms/step - loss: 9.8437 - mae: 9.8437\n",
            "Epoch 14/100\n",
            "2/2 [==============================] - 0s 9ms/step - loss: 11.9966 - mae: 11.9966\n",
            "Epoch 15/100\n",
            "2/2 [==============================] - 0s 10ms/step - loss: 12.4943 - mae: 12.4943\n",
            "Epoch 16/100\n",
            "2/2 [==============================] - 0s 10ms/step - loss: 7.9004 - mae: 7.9004\n",
            "Epoch 17/100\n",
            "2/2 [==============================] - 0s 9ms/step - loss: 12.8050 - mae: 12.8050\n",
            "Epoch 18/100\n",
            "2/2 [==============================] - 0s 10ms/step - loss: 10.4282 - mae: 10.4282\n",
            "Epoch 19/100\n",
            "2/2 [==============================] - 0s 9ms/step - loss: 19.2804 - mae: 19.2804\n",
            "Epoch 20/100\n",
            "2/2 [==============================] - 0s 9ms/step - loss: 15.9429 - mae: 15.9429\n",
            "Epoch 21/100\n",
            "2/2 [==============================] - 0s 9ms/step - loss: 11.8639 - mae: 11.8639\n",
            "Epoch 22/100\n",
            "2/2 [==============================] - 0s 9ms/step - loss: 8.4705 - mae: 8.4705\n",
            "Epoch 23/100\n",
            "2/2 [==============================] - 0s 9ms/step - loss: 9.7952 - mae: 9.7952\n",
            "Epoch 24/100\n",
            "2/2 [==============================] - 0s 8ms/step - loss: 10.8314 - mae: 10.8314\n",
            "Epoch 25/100\n",
            "2/2 [==============================] - 0s 9ms/step - loss: 9.1031 - mae: 9.1031\n",
            "Epoch 26/100\n",
            "2/2 [==============================] - 0s 9ms/step - loss: 13.0605 - mae: 13.0605\n",
            "Epoch 27/100\n",
            "2/2 [==============================] - 0s 7ms/step - loss: 10.3931 - mae: 10.3931\n",
            "Epoch 28/100\n",
            "2/2 [==============================] - 0s 8ms/step - loss: 13.3990 - mae: 13.3990\n",
            "Epoch 29/100\n",
            "2/2 [==============================] - 0s 8ms/step - loss: 9.6034 - mae: 9.6034\n",
            "Epoch 30/100\n",
            "2/2 [==============================] - 0s 6ms/step - loss: 17.2207 - mae: 17.2207\n",
            "Epoch 31/100\n",
            "2/2 [==============================] - 0s 14ms/step - loss: 22.8368 - mae: 22.8368\n",
            "Epoch 32/100\n",
            "2/2 [==============================] - 0s 11ms/step - loss: 7.9057 - mae: 7.9057\n",
            "Epoch 33/100\n",
            "2/2 [==============================] - 0s 5ms/step - loss: 14.1503 - mae: 14.1503\n",
            "Epoch 34/100\n",
            "2/2 [==============================] - 0s 8ms/step - loss: 12.3998 - mae: 12.3998\n",
            "Epoch 35/100\n",
            "2/2 [==============================] - 0s 7ms/step - loss: 8.2432 - mae: 8.2432\n",
            "Epoch 36/100\n",
            "2/2 [==============================] - 0s 8ms/step - loss: 10.4565 - mae: 10.4565\n",
            "Epoch 37/100\n",
            "2/2 [==============================] - 0s 8ms/step - loss: 10.1052 - mae: 10.1052\n",
            "Epoch 38/100\n",
            "2/2 [==============================] - 0s 9ms/step - loss: 11.2882 - mae: 11.2882\n",
            "Epoch 39/100\n",
            "2/2 [==============================] - 0s 8ms/step - loss: 14.7719 - mae: 14.7719\n",
            "Epoch 40/100\n",
            "2/2 [==============================] - 0s 9ms/step - loss: 12.9020 - mae: 12.9020\n",
            "Epoch 41/100\n",
            "2/2 [==============================] - 0s 5ms/step - loss: 9.2944 - mae: 9.2944\n",
            "Epoch 42/100\n",
            "2/2 [==============================] - 0s 12ms/step - loss: 10.9741 - mae: 10.9741\n",
            "Epoch 43/100\n",
            "2/2 [==============================] - 0s 10ms/step - loss: 8.3201 - mae: 8.3201\n",
            "Epoch 44/100\n",
            "2/2 [==============================] - 0s 12ms/step - loss: 13.0091 - mae: 13.0091\n",
            "Epoch 45/100\n",
            "2/2 [==============================] - 0s 12ms/step - loss: 13.6962 - mae: 13.6962\n",
            "Epoch 46/100\n",
            "2/2 [==============================] - 0s 12ms/step - loss: 8.3955 - mae: 8.3955\n",
            "Epoch 47/100\n",
            "2/2 [==============================] - 0s 9ms/step - loss: 9.1666 - mae: 9.1666\n",
            "Epoch 48/100\n",
            "2/2 [==============================] - 0s 7ms/step - loss: 10.6734 - mae: 10.6734\n",
            "Epoch 49/100\n",
            "2/2 [==============================] - 0s 7ms/step - loss: 7.7788 - mae: 7.7788\n",
            "Epoch 50/100\n",
            "2/2 [==============================] - 0s 9ms/step - loss: 9.5900 - mae: 9.5900\n",
            "Epoch 51/100\n",
            "2/2 [==============================] - 0s 11ms/step - loss: 9.1619 - mae: 9.1619\n",
            "Epoch 52/100\n",
            "2/2 [==============================] - 0s 8ms/step - loss: 16.4882 - mae: 16.4882\n",
            "Epoch 53/100\n",
            "2/2 [==============================] - 0s 14ms/step - loss: 14.0664 - mae: 14.0664\n",
            "Epoch 54/100\n",
            "2/2 [==============================] - 0s 7ms/step - loss: 20.9770 - mae: 20.9770\n",
            "Epoch 55/100\n",
            "2/2 [==============================] - 0s 7ms/step - loss: 16.5072 - mae: 16.5072\n",
            "Epoch 56/100\n",
            "2/2 [==============================] - 0s 7ms/step - loss: 9.8426 - mae: 9.8426\n",
            "Epoch 57/100\n",
            "2/2 [==============================] - 0s 7ms/step - loss: 9.6572 - mae: 9.6572\n",
            "Epoch 58/100\n",
            "2/2 [==============================] - 0s 7ms/step - loss: 8.9740 - mae: 8.9740\n",
            "Epoch 59/100\n",
            "2/2 [==============================] - 0s 7ms/step - loss: 10.1882 - mae: 10.1882\n",
            "Epoch 60/100\n",
            "2/2 [==============================] - 0s 10ms/step - loss: 8.4012 - mae: 8.4012\n",
            "Epoch 61/100\n",
            "2/2 [==============================] - 0s 10ms/step - loss: 9.2350 - mae: 9.2350\n",
            "Epoch 62/100\n",
            "2/2 [==============================] - 0s 11ms/step - loss: 7.2649 - mae: 7.2649\n",
            "Epoch 63/100\n",
            "2/2 [==============================] - 0s 9ms/step - loss: 8.1708 - mae: 8.1708\n",
            "Epoch 64/100\n",
            "2/2 [==============================] - 0s 11ms/step - loss: 12.5349 - mae: 12.5349\n",
            "Epoch 65/100\n",
            "2/2 [==============================] - 0s 14ms/step - loss: 10.6128 - mae: 10.6128\n",
            "Epoch 66/100\n",
            "2/2 [==============================] - 0s 10ms/step - loss: 15.4632 - mae: 15.4632\n",
            "Epoch 67/100\n",
            "2/2 [==============================] - 0s 10ms/step - loss: 9.9029 - mae: 9.9029\n",
            "Epoch 68/100\n",
            "2/2 [==============================] - 0s 9ms/step - loss: 8.6719 - mae: 8.6719\n",
            "Epoch 69/100\n",
            "2/2 [==============================] - 0s 9ms/step - loss: 13.3368 - mae: 13.3368\n",
            "Epoch 70/100\n",
            "2/2 [==============================] - 0s 14ms/step - loss: 7.4624 - mae: 7.4624\n",
            "Epoch 71/100\n",
            "2/2 [==============================] - 0s 11ms/step - loss: 12.3397 - mae: 12.3397\n",
            "Epoch 72/100\n",
            "2/2 [==============================] - 0s 9ms/step - loss: 8.4475 - mae: 8.4475\n",
            "Epoch 73/100\n",
            "2/2 [==============================] - 0s 9ms/step - loss: 6.8676 - mae: 6.8676\n",
            "Epoch 74/100\n",
            "2/2 [==============================] - 0s 9ms/step - loss: 11.0517 - mae: 11.0517\n",
            "Epoch 75/100\n",
            "2/2 [==============================] - 0s 10ms/step - loss: 9.4064 - mae: 9.4064\n",
            "Epoch 76/100\n",
            "2/2 [==============================] - 0s 9ms/step - loss: 10.8619 - mae: 10.8619\n",
            "Epoch 77/100\n",
            "2/2 [==============================] - 0s 8ms/step - loss: 14.8049 - mae: 14.8049\n",
            "Epoch 78/100\n",
            "2/2 [==============================] - 0s 8ms/step - loss: 10.8764 - mae: 10.8764\n",
            "Epoch 79/100\n",
            "2/2 [==============================] - 0s 10ms/step - loss: 15.3280 - mae: 15.3280\n",
            "Epoch 80/100\n",
            "2/2 [==============================] - 0s 10ms/step - loss: 11.7601 - mae: 11.7601\n",
            "Epoch 81/100\n",
            "2/2 [==============================] - 0s 11ms/step - loss: 9.2041 - mae: 9.2041\n",
            "Epoch 82/100\n",
            "2/2 [==============================] - 0s 10ms/step - loss: 12.8529 - mae: 12.8529\n",
            "Epoch 83/100\n",
            "2/2 [==============================] - 0s 15ms/step - loss: 10.3077 - mae: 10.3077\n",
            "Epoch 84/100\n",
            "2/2 [==============================] - 0s 7ms/step - loss: 10.5865 - mae: 10.5865\n",
            "Epoch 85/100\n",
            "2/2 [==============================] - 0s 7ms/step - loss: 9.3008 - mae: 9.3008\n",
            "Epoch 86/100\n",
            "2/2 [==============================] - 0s 7ms/step - loss: 9.1542 - mae: 9.1542\n",
            "Epoch 87/100\n",
            "2/2 [==============================] - 0s 8ms/step - loss: 11.8775 - mae: 11.8775\n",
            "Epoch 88/100\n",
            "2/2 [==============================] - 0s 9ms/step - loss: 10.4872 - mae: 10.4872\n",
            "Epoch 89/100\n",
            "2/2 [==============================] - 0s 9ms/step - loss: 6.9689 - mae: 6.9689\n",
            "Epoch 90/100\n",
            "2/2 [==============================] - 0s 10ms/step - loss: 13.8167 - mae: 13.8167\n",
            "Epoch 91/100\n",
            "2/2 [==============================] - 0s 10ms/step - loss: 7.8833 - mae: 7.8833\n",
            "Epoch 92/100\n",
            "2/2 [==============================] - 0s 14ms/step - loss: 7.4496 - mae: 7.4496\n",
            "Epoch 93/100\n",
            "2/2 [==============================] - 0s 9ms/step - loss: 9.1536 - mae: 9.1536\n",
            "Epoch 94/100\n",
            "2/2 [==============================] - 0s 10ms/step - loss: 8.5577 - mae: 8.5577\n",
            "Epoch 95/100\n",
            "2/2 [==============================] - 0s 12ms/step - loss: 11.4997 - mae: 11.4997\n",
            "Epoch 96/100\n",
            "2/2 [==============================] - 0s 10ms/step - loss: 10.2886 - mae: 10.2886\n",
            "Epoch 97/100\n",
            "2/2 [==============================] - 0s 9ms/step - loss: 7.6817 - mae: 7.6817\n",
            "Epoch 98/100\n",
            "2/2 [==============================] - 0s 9ms/step - loss: 8.6165 - mae: 8.6165\n",
            "Epoch 99/100\n",
            "2/2 [==============================] - 0s 9ms/step - loss: 9.3955 - mae: 9.3955\n",
            "Epoch 100/100\n",
            "2/2 [==============================] - 0s 10ms/step - loss: 8.8401 - mae: 8.8401\n"
          ]
        },
        {
          "output_type": "execute_result",
          "data": {
            "text/plain": [
              "<keras.callbacks.History at 0x7f9d4175b910>"
            ]
          },
          "metadata": {},
          "execution_count": 27
        }
      ]
    },
    {
      "cell_type": "code",
      "source": [
        "model.summary()"
      ],
      "metadata": {
        "colab": {
          "base_uri": "https://localhost:8080/"
        },
        "id": "6SoxC9M_H9oK",
        "outputId": "f7a42521-32c8-4842-f37b-2100599ffcd3"
      },
      "execution_count": 28,
      "outputs": [
        {
          "output_type": "stream",
          "name": "stdout",
          "text": [
            "Model: \"sequential_5\"\n",
            "_________________________________________________________________\n",
            " Layer (type)                Output Shape              Param #   \n",
            "=================================================================\n",
            " dense_7 (Dense)             (None, 1)                 2         \n",
            "                                                                 \n",
            "=================================================================\n",
            "Total params: 2\n",
            "Trainable params: 2\n",
            "Non-trainable params: 0\n",
            "_________________________________________________________________\n"
          ]
        }
      ]
    },
    {
      "cell_type": "code",
      "source": [
        "X[0], y[0]"
      ],
      "metadata": {
        "colab": {
          "base_uri": "https://localhost:8080/"
        },
        "id": "KSVUrkoBKxh9",
        "outputId": "f67bc882-fc24-4211-bdb0-40e4de3c7ab6"
      },
      "execution_count": 38,
      "outputs": [
        {
          "output_type": "execute_result",
          "data": {
            "text/plain": [
              "(<tf.Tensor: shape=(), dtype=int32, numpy=-100>,\n",
              " <tf.Tensor: shape=(), dtype=int32, numpy=-90>)"
            ]
          },
          "metadata": {},
          "execution_count": 38
        }
      ]
    },
    {
      "cell_type": "code",
      "source": [
        "# Let's create a model which builds automatically by defining the input_shape \n",
        "tf.random.set_seed(42)\n",
        "#1. Create model\n",
        "model = tf.keras.Sequential([\n",
        "                             tf.keras.layers.Dense(10, input_shape= [1], name=\"Input_layers\"  ),\n",
        "                             tf.keras.layers.Dense(1, name=\"Output_layers\")\n",
        "\n",
        "], name=\"Model_1\")\n",
        "# 2. Compile model\n",
        "model.compile(loss=tf.keras.losses.mae,\n",
        "              optimizer=tf.keras.optimizers.SGD(),\n",
        "              metrics=[\"mae\"] )\n"
      ],
      "metadata": {
        "id": "lHNGW3VkKCdu"
      },
      "execution_count": 101,
      "outputs": []
    },
    {
      "cell_type": "code",
      "source": [
        "model.summary()"
      ],
      "metadata": {
        "colab": {
          "base_uri": "https://localhost:8080/"
        },
        "id": "60_qOh53L6rZ",
        "outputId": "af57a356-78d9-43a3-d1fc-949d16cdfe6b"
      },
      "execution_count": 102,
      "outputs": [
        {
          "output_type": "stream",
          "name": "stdout",
          "text": [
            "Model: \"Model_1\"\n",
            "_________________________________________________________________\n",
            " Layer (type)                Output Shape              Param #   \n",
            "=================================================================\n",
            " Input_layers (Dense)        (None, 10)                20        \n",
            "                                                                 \n",
            " Output_layers (Dense)       (None, 1)                 11        \n",
            "                                                                 \n",
            "=================================================================\n",
            "Total params: 31\n",
            "Trainable params: 31\n",
            "Non-trainable params: 0\n",
            "_________________________________________________________________\n"
          ]
        }
      ]
    },
    {
      "cell_type": "code",
      "source": [
        ""
      ],
      "metadata": {
        "id": "DyeTH445L6zW"
      },
      "execution_count": null,
      "outputs": []
    },
    {
      "cell_type": "markdown",
      "source": [
        "\n",
        "\n",
        "*   Total params - total numer of parameters in the model\n",
        "*   Trainable paramters - these are the parameters (patterns) the model can update as it trains.\n",
        "\n",
        "\n",
        "*   None -trainable params - these parameters  are not updated training (this is typical when you bring in already learn pattern or paramtemers frim other model during transfer learning)\n",
        "\n",
        "\n",
        "\n"
      ],
      "metadata": {
        "id": "EfJGSUB2M33Y"
      }
    },
    {
      "cell_type": "code",
      "source": [
        "# Lets fit our model to the training data\n",
        "model.fit(X_train, y_train, epochs=100, verbose=0)"
      ],
      "metadata": {
        "colab": {
          "base_uri": "https://localhost:8080/"
        },
        "id": "hFI5uBjpMymE",
        "outputId": "68fe26d0-5171-4570-80ae-75d7bf44d547"
      },
      "execution_count": 103,
      "outputs": [
        {
          "output_type": "execute_result",
          "data": {
            "text/plain": [
              "<keras.callbacks.History at 0x7f9d41ccf8d0>"
            ]
          },
          "metadata": {},
          "execution_count": 103
        }
      ]
    },
    {
      "cell_type": "code",
      "source": [
        "#Get summary of our model \n",
        "model.summary()"
      ],
      "metadata": {
        "colab": {
          "base_uri": "https://localhost:8080/"
        },
        "id": "GcQGvy9e_Fgl",
        "outputId": "f232f9d7-ae72-45fc-bcb1-0ef98e37af06"
      },
      "execution_count": 104,
      "outputs": [
        {
          "output_type": "stream",
          "name": "stdout",
          "text": [
            "Model: \"Model_1\"\n",
            "_________________________________________________________________\n",
            " Layer (type)                Output Shape              Param #   \n",
            "=================================================================\n",
            " Input_layers (Dense)        (None, 10)                20        \n",
            "                                                                 \n",
            " Output_layers (Dense)       (None, 1)                 11        \n",
            "                                                                 \n",
            "=================================================================\n",
            "Total params: 31\n",
            "Trainable params: 31\n",
            "Non-trainable params: 0\n",
            "_________________________________________________________________\n"
          ]
        }
      ]
    },
    {
      "cell_type": "code",
      "source": [
        "from tensorflow.keras.utils import plot_model"
      ],
      "metadata": {
        "id": "rpxk4SjD_hrX"
      },
      "execution_count": 105,
      "outputs": []
    },
    {
      "cell_type": "code",
      "source": [
        "plot_model(\n",
        "    model=model,\n",
        "    show_shapes=True\n",
        ")"
      ],
      "metadata": {
        "colab": {
          "base_uri": "https://localhost:8080/",
          "height": 312
        },
        "id": "l_zThtj8NIIz",
        "outputId": "7095072c-a5dd-4d15-dfc9-3d23179c4fca"
      },
      "execution_count": 106,
      "outputs": [
        {
          "output_type": "execute_result",
          "data": {
            "image/png": "[encoded data removed]",
            "text/plain": [
              "<IPython.core.display.Image object>"
            ]
          },
          "metadata": {},
          "execution_count": 106
        }
      ]
    },
    {
      "cell_type": "markdown",
      "source": [
        "###Visiualize the our model\n",
        "\n",
        "To visualize predictions, it is good idea to plot them against the ground truth labels.\n",
        "Often you will see this in the form of 'y_test' or 'y_true' versus 'y_pred'"
      ],
      "metadata": {
        "id": "p0VUiwGlOnpj"
      }
    },
    {
      "cell_type": "code",
      "source": [
        "# Make some predictions\n",
        "\n",
        "y_pred = model.predict(X_test)\n",
        "y_pred"
      ],
      "metadata": {
        "colab": {
          "base_uri": "https://localhost:8080/"
        },
        "id": "IHoqvTtUNKkB",
        "outputId": "b60edace-2298-46db-854b-0b5f04504209"
      },
      "execution_count": 107,
      "outputs": [
        {
          "output_type": "execute_result",
          "data": {
            "text/plain": [
              "array([[ 70.55218 ],\n",
              "       [ 75.13991 ],\n",
              "       [ 79.72763 ],\n",
              "       [ 84.31535 ],\n",
              "       [ 88.903076],\n",
              "       [ 93.49081 ],\n",
              "       [ 98.07853 ],\n",
              "       [102.66625 ],\n",
              "       [107.253975],\n",
              "       [111.8417  ]], dtype=float32)"
            ]
          },
          "metadata": {},
          "execution_count": 107
        }
      ]
    },
    {
      "cell_type": "code",
      "source": [
        "y_test"
      ],
      "metadata": {
        "colab": {
          "base_uri": "https://localhost:8080/"
        },
        "id": "hFwKZrZfOsdR",
        "outputId": "3111a112-8ff3-41c9-b622-60de28395309"
      },
      "execution_count": 108,
      "outputs": [
        {
          "output_type": "execute_result",
          "data": {
            "text/plain": [
              "<tf.Tensor: shape=(10,), dtype=int32, numpy=array([ 70,  74,  78,  82,  86,  90,  94,  98, 102, 106], dtype=int32)>"
            ]
          },
          "metadata": {},
          "execution_count": 108
        }
      ]
    },
    {
      "cell_type": "code",
      "source": [
        "# Let's create a plotiing function\n",
        "\n",
        "def plot_predictions(train_data=X_train,\n",
        "                    train_labels=y_train,\n",
        "                    test_data=X_test,\n",
        "                    test_labels=y_test,\n",
        "                    predictions=y_pred):\n",
        "  \"\"\"\n",
        "  Plots training data, test data and compares predictions to ground truth labels.\n",
        "  \"\"\"\n",
        "  plt.figure(figsize=(10,7))\n",
        "  # Plot training data in blue\n",
        "  plt.scatter(train_data, train_labels, c = \"b\", label =\"Training data\")\n",
        "  # Plot testing data in green\n",
        "  plt.scatter(test_data, test_labels, c= \"g\", label=\"Testing data\")\n",
        "  # Plot model's  prediction in red\n",
        "  plt.scatter(test_data, predictions, c =\"r\", label=\"Predictions\")\n",
        "  # Show Legend\n",
        "  plt.legend();"
      ],
      "metadata": {
        "id": "tHu8JkmgPjMl"
      },
      "execution_count": 113,
      "outputs": []
    },
    {
      "cell_type": "code",
      "source": [
        "plot_predictions()"
      ],
      "metadata": {
        "colab": {
          "base_uri": "https://localhost:8080/",
          "height": 428
        },
        "id": "gMHMY8D_UNYh",
        "outputId": "f27518f7-f49d-4a68-eb1c-0b8eba659091"
      },
      "execution_count": 115,
      "outputs": [
        {
          "output_type": "display_data",
          "data": {
            "image/png": "[encoded data removed]",
            "text/plain": [
              "<Figure size 720x504 with 1 Axes>"
            ]
          },
          "metadata": {
            "needs_background": "light"
          }
        }
      ]
    },
    {
      "cell_type": "code",
      "source": [
        ""
      ],
      "metadata": {
        "id": "bXL1Qdp_cP0m"
      },
      "execution_count": null,
      "outputs": []
    }
  ]
}